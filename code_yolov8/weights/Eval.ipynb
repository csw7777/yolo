{
 "cells": [
  {
   "cell_type": "code",
   "execution_count": 1,
   "metadata": {},
   "outputs": [],
   "source": [
    "import os,sys\n",
    "sys.path.append('C:\\\\Users\\\\14794\\\\yolov8\\\\code_yolov8\\\\ultralytics')\n",
    "\n",
    "# 设置你希望的工作目录\n",
    "os.chdir('C:\\\\Users\\\\14794\\\\yolov8\\\\code_yolov8\\\\ultralytics')"
   ]
  },
  {
   "cell_type": "code",
   "execution_count": 2,
   "metadata": {},
   "outputs": [
    {
     "data": {
      "text/plain": [
       "<module 'ultralytics' from 'C:\\\\Users\\\\14794\\\\yolov8\\\\code_yolov8\\\\ultralytics\\\\ultralytics\\\\__init__.py'>"
      ]
     },
     "execution_count": 2,
     "metadata": {},
     "output_type": "execute_result"
    }
   ],
   "source": [
    "import ultralytics\n",
    "ultralytics"
   ]
  },
  {
   "cell_type": "code",
   "execution_count": 3,
   "metadata": {},
   "outputs": [],
   "source": [
    "#coding: utf-8\n",
    "from ultralytics import YOLO\n",
    "import matplotlib"
   ]
  },
  {
   "cell_type": "code",
   "execution_count": 1,
   "metadata": {},
   "outputs": [
    {
     "name": "stderr",
     "output_type": "stream",
     "text": [
      "Ultralytics YOLOv8.0.144  Python-3.8.5 torch-2.2.2+cu121 CUDA:0 (NVIDIA GeForce GTX 1660 Ti, 6144MiB)\n",
      "YOLOv8s summary (fused): 168 layers, 11144160 parameters, 0 gradients, 28.5 GFLOPs\n",
      "\u001b[34m\u001b[1mval: \u001b[0mScanning C:\\Users\\14794\\yolov8\\data\\data\\yolo\\val\\labels\\val... 469 images, 0 backgrounds, 0 corrupt: 100%|███████\u001b[0m\n",
      "\u001b[34m\u001b[1mval: \u001b[0mNew cache created: C:\\Users\\14794\\yolov8\\data\\data\\yolo\\val\\labels\\val.cache\n",
      "                 Class     Images  Instances      Box(P          R      mAP50  mAP50-95): 100%|██████████| 30/30 [00:07\n",
      "                   all        469        750      0.667      0.537      0.595        0.5\n",
      "   Fast food container        469         20      0.838        0.6       0.71       0.58\n",
      "            Book paper        469          7      0.404      0.143       0.18      0.168\n",
      "            Power bank        469         21       0.95      0.904      0.942      0.867\n",
      "         Leftover food        469         34      0.803      0.479      0.646      0.393\n",
      "                   Bag        469         28       0.86      0.929      0.925      0.786\n",
      "             Trash bin        469          1          1          0      0.995      0.895\n",
      "   Plastic kitchenware        469          2          1          0     0.0224    0.00224\n",
      "        Plastic dishes        469         12      0.671      0.512      0.544      0.419\n",
      "       Plastic hangers        469          5       0.72        0.8      0.848      0.435\n",
      "           Dry battery        469          8      0.788          1      0.923      0.643\n",
      "         Plug and wire        469         55      0.573      0.341      0.363      0.247\n",
      "           Old clothes        469         24      0.893      0.958      0.972      0.921\n",
      "          Aluminum can        469         31      0.871      0.867      0.926      0.856\n",
      "                Pillow        469         38      0.902      0.723      0.853      0.695\n",
      "  Fruit peel and flesh        469         36      0.818      0.889      0.914      0.798\n",
      "                 Towel        469          5          1      0.386      0.648      0.586\n",
      "             Plush toy        469          3      0.106      0.141      0.104     0.0578\n",
      "  Contaminated plastic        469         46      0.733      0.587      0.562      0.482\n",
      "    Contaminated paper        469          3          0          0          0          0\n",
      "            Toiletries        469         44      0.862      0.864      0.928      0.869\n",
      "        Cigarette butt        469          6       0.52      0.833      0.691      0.608\n",
      "          Glass dishes        469         32      0.695      0.688      0.752      0.667\n",
      "            Chopsticks        469          7      0.262      0.286      0.359      0.152\n",
      "         Cardboard box        469         22      0.235     0.0909      0.121     0.0932\n",
      "             Paper bag        469         29      0.846      0.897      0.917      0.858\n",
      "            Flower pot        469          5          1          0     0.0115    0.00458\n",
      "Vegetable stalks and leaves        469         11      0.566      0.455      0.446      0.353\n",
      "              Eggshell        469         12      0.756      0.917      0.886      0.802\n",
      "      Seasoning bottle        469         15      0.737      0.749      0.822      0.693\n",
      "      Expired medicine        469         47      0.816      0.851      0.852      0.811\n",
      "     Metal kitchenware        469          7          0          0      0.052     0.0124\n",
      "          Metal dishes        469          2          0          0     0.0222     0.0155\n",
      "                   Pot        469         31      0.886      0.806      0.814      0.718\n",
      "        Ceramic dishes        469         60      0.701      0.617      0.646      0.543\n",
      "                 Shoes        469          7      0.547      0.286      0.313      0.232\n",
      "     Edible oil barrel        469          4      0.328       0.25      0.308      0.279\n",
      "       Beverage bottle        469         21      0.782      0.856      0.847      0.826\n",
      "       Beverage carton        469          9       0.86      0.686      0.754      0.613\n",
      "Speed: 0.3ms preprocess, 6.9ms inference, 0.0ms loss, 1.0ms postprocess per image\n",
      "Results saved to \u001b[1mruns\\detect\\val14\u001b[0m\n"
     ]
    }
   ],
   "source": [
    "matplotlib.use( \"TkAgg\")\n",
    "if __name__ == '__main__':\n",
    "    #加载训练好的模型\n",
    "    model = YOLO('../weights/yolov8s/weights/best.pt')\n",
    "    # 对验证集进行评估\n",
    "    metrics = model.val(data = '../ultralytics/ultralytics/cfg/datasets/VOC_garbage.yaml')"
   ]
  },
  {
   "cell_type": "code",
   "execution_count": 6,
   "metadata": {},
   "outputs": [
    {
     "name": "stderr",
     "output_type": "stream",
     "text": [
      "Ultralytics YOLOv8.0.203  Python-3.8.5 torch-2.2.2+cu121 CUDA:0 (NVIDIA GeForce GTX 1660 Ti, 6144MiB)\n",
      "YOLOv8s-attention-SE summary (fused): 175 layers, 11176928 parameters, 0 gradients, 28.6 GFLOPs\n",
      "\u001b[34m\u001b[1mval: \u001b[0mScanning C:\\Users\\14794\\yolov8\\data\\data\\yolo\\val\\labels\\val... 469 images, 0 backgrounds, 0 corrupt: 100%|███████\u001b[0m\n",
      "\u001b[34m\u001b[1mval: \u001b[0mNew cache created: C:\\Users\\14794\\yolov8\\data\\data\\yolo\\val\\labels\\val.cache\n",
      "                 Class     Images  Instances      Box(P          R      mAP50  mAP50-95): 100%|██████████| 30/30 [00:05\n",
      "                   all        469        750      0.796      0.507      0.564      0.472\n",
      "   Fast food container        469         20          1      0.436      0.748      0.629\n",
      "            Book paper        469          7      0.366      0.143      0.189      0.186\n",
      "            Power bank        469         21      0.892      0.857      0.934      0.885\n",
      "         Leftover food        469         34      0.858      0.535      0.672      0.403\n",
      "                   Bag        469         28      0.775      0.929      0.911      0.802\n",
      "             Trash bin        469          1          1          0     0.0332     0.0265\n",
      "   Plastic kitchenware        469          2          1          0          0          0\n",
      "        Plastic dishes        469         12      0.509      0.417      0.381      0.318\n",
      "       Plastic hangers        469          5          1      0.577      0.673      0.369\n",
      "           Dry battery        469          8       0.87      0.838      0.946      0.696\n",
      "         Plug and wire        469         55      0.607      0.281      0.381      0.294\n",
      "           Old clothes        469         24      0.891      0.917      0.976      0.915\n",
      "          Aluminum can        469         31      0.816      0.857      0.928      0.819\n",
      "                Pillow        469         38      0.832      0.605      0.828      0.712\n",
      "  Fruit peel and flesh        469         36      0.821      0.833      0.873      0.783\n",
      "                 Towel        469          5      0.456        0.4      0.395      0.334\n",
      "             Plush toy        469          3          1          0      0.342      0.142\n",
      "  Contaminated plastic        469         46      0.814      0.476       0.53      0.466\n",
      "    Contaminated paper        469          3          1          0          0          0\n",
      "            Toiletries        469         44      0.921      0.886      0.927      0.884\n",
      "        Cigarette butt        469          6      0.681      0.833      0.813      0.649\n",
      "          Glass dishes        469         32       0.79      0.706      0.761      0.717\n",
      "            Chopsticks        469          7          1      0.413      0.439       0.27\n",
      "         Cardboard box        469         22      0.667      0.182      0.226      0.159\n",
      "             Paper bag        469         29      0.898      0.897      0.921      0.847\n",
      "            Flower pot        469          5          1          0     0.0755     0.0449\n",
      "Vegetable stalks and leaves        469         11      0.646      0.364      0.426      0.302\n",
      "              Eggshell        469         12       0.85      0.833      0.908      0.757\n",
      "      Seasoning bottle        469         15      0.758      0.838      0.819      0.686\n",
      "      Expired medicine        469         47       0.87      0.851      0.846      0.806\n",
      "     Metal kitchenware        469          7          1          0     0.0293     0.0109\n",
      "          Metal dishes        469          2          0          0    0.00714    0.00571\n",
      "                   Pot        469         31      0.842      0.774      0.821      0.709\n",
      "        Ceramic dishes        469         60      0.804      0.633      0.687      0.584\n",
      "                 Shoes        469          7      0.785      0.286      0.291      0.219\n",
      "     Edible oil barrel        469          4      0.456       0.25      0.132      0.132\n",
      "       Beverage bottle        469         21      0.842      0.759       0.81      0.777\n",
      "       Beverage carton        469          9      0.943      0.667       0.75      0.595\n",
      "Speed: 0.3ms preprocess, 6.9ms inference, 0.0ms loss, 0.9ms postprocess per image\n",
      "Results saved to \u001b[1mruns\\detect\\val\u001b[0m\n"
     ]
    }
   ],
   "source": [
    "matplotlib.use( \"TkAgg\")\n",
    "if __name__ == '__main__':\n",
    "    #加载训练好的模型\n",
    "    model = YOLO('../weights/YOLOv8s-attention-SE/weights/best.pt')\n",
    "    # 对验证集进行评估\n",
    "    metrics = model.val(data = '../ultralytics/ultralytics/cfg/datasets/VOC_garbage.yaml')"
   ]
  },
  {
   "cell_type": "code",
   "execution_count": 4,
   "metadata": {},
   "outputs": [
    {
     "name": "stderr",
     "output_type": "stream",
     "text": [
      "Ultralytics YOLOv8.0.203  Python-3.8.5 torch-2.2.2+cu121 CUDA:0 (NVIDIA GeForce GTX 1660 Ti, 6144MiB)\n",
      "YOLOv8s summary (fused): 168 layers, 11156544 parameters, 0 gradients, 28.6 GFLOPs\n",
      "\u001b[34m\u001b[1mval: \u001b[0mScanning C:\\Users\\14794\\yolov8\\data\\data\\yolo\\val\\labels\\val.cache... 469 images, 0 backgrounds, 0 corrupt: 100%|█\u001b[0m\n",
      "                 Class     Images  Instances      Box(P          R      mAP50  mAP50-95): 100%|██████████| 30/30 [00:05\n",
      "                   all        469        750     0.0129      0.125     0.0147     0.0116\n",
      "                person        469         20    0.00264       0.45    0.00233    0.00138\n",
      "               bicycle        469          7          0          0          0          0\n",
      "                   car        469         21          0          0          0          0\n",
      "            motorcycle        469         34          0          0          0          0\n",
      "              airplane        469         28     0.0333     0.0714     0.0209     0.0135\n",
      "                   bus        469          1          0          0          0          0\n",
      "                 train        469          2          0          0          0          0\n",
      "                 truck        469         12          0          0          0          0\n",
      "         traffic light        469          5          0          0          0          0\n",
      "             stop sign        469          8          0          0          0          0\n",
      "                 bench        469         55     0.0127     0.0727    0.00715    0.00555\n",
      "                  bird        469         24     0.0294      0.333     0.0298     0.0243\n",
      "                   cat        469         31     0.0125     0.0968    0.00718    0.00668\n",
      "                   dog        469         38     0.0519      0.211     0.0849     0.0472\n",
      "                 horse        469         36          0          0          0          0\n",
      "                 sheep        469          5          0          0          0          0\n",
      "                   cow        469          3          0          0          0          0\n",
      "              elephant        469         46      0.125      0.087      0.073     0.0573\n",
      "                  bear        469          3          0          0          0          0\n",
      "                 zebra        469         44          0          0          0          0\n",
      "               giraffe        469          6     0.0455      0.167      0.184      0.166\n",
      "              umbrella        469         32    0.00974     0.0938    0.00542    0.00469\n",
      "                   tie        469          7          0          0          0          0\n",
      "              suitcase        469         22    0.00605      0.136     0.0038     0.0026\n",
      "               frisbee        469         29      0.025      0.103     0.0147     0.0128\n",
      "                  skis        469          5          0          0          0          0\n",
      "           sports ball        469         11     0.0167      0.182     0.0104    0.00583\n",
      "                  kite        469         12     0.0125     0.0833    0.00734    0.00734\n",
      "          baseball bat        469         15     0.0241      0.133     0.0159     0.0151\n",
      "            skateboard        469         47      0.032     0.0851     0.0201     0.0188\n",
      "         tennis racket        469          7          0          0          0          0\n",
      "                bottle        469          2    0.00106          1     0.0079    0.00774\n",
      "                   cup        469         31     0.0164      0.742     0.0349     0.0268\n",
      "                  fork        469         60     0.0265        0.2     0.0225     0.0112\n",
      "                 knife        469          7    0.00153      0.143   0.000975   0.000878\n",
      "                 spoon        469          4          0          0          0          0\n",
      "                  bowl        469         21    0.00308      0.143    0.00461    0.00284\n",
      "                banana        469          9    0.00269      0.222     0.0025    0.00158\n",
      "Speed: 0.3ms preprocess, 7.4ms inference, 0.0ms loss, 1.0ms postprocess per image\n",
      "Results saved to \u001b[1mruns\\detect\\val2\u001b[0m\n"
     ]
    }
   ],
   "source": [
    "matplotlib.use( \"TkAgg\")\n",
    "if __name__ == '__main__':\n",
    "    #加载训练好的模型\n",
    "    model = YOLO(r'C:\\Users\\14794\\yolov8\\code_yolov8\\ultralytics\\weights\\yolov8s.pt')\n",
    "    # 对验证集进行评估\n",
    "    metrics = model.val(data = '../ultralytics/ultralytics/cfg/datasets/VOC_garbage.yaml')"
   ]
  }
 ],
 "metadata": {
  "kernelspec": {
   "display_name": "Python 3",
   "language": "python",
   "name": "python3"
  },
  "language_info": {
   "codemirror_mode": {
    "name": "ipython",
    "version": 3
   },
   "file_extension": ".py",
   "mimetype": "text/x-python",
   "name": "python",
   "nbconvert_exporter": "python",
   "pygments_lexer": "ipython3",
   "version": "3.8.5"
  },
  "toc": {
   "base_numbering": 1,
   "nav_menu": {},
   "number_sections": true,
   "sideBar": true,
   "skip_h1_title": false,
   "title_cell": "Table of Contents",
   "title_sidebar": "Contents",
   "toc_cell": false,
   "toc_position": {},
   "toc_section_display": true,
   "toc_window_display": false
  }
 },
 "nbformat": 4,
 "nbformat_minor": 4
}
