{
 "cells": [
  {
   "cell_type": "code",
   "execution_count": 4,
   "metadata": {},
   "outputs": [
    {
     "name": "stdout",
     "output_type": "stream",
     "text": [
      "Total number of classes: 48\n"
     ]
    }
   ],
   "source": [
    "import json\n",
    "\n",
    "# 加载你的JSON类别文件\n",
    "with open('classify_rule.json', 'r', encoding='utf-8') as f:\n",
    "    categories = json.load(f)\n",
    "\n",
    "# 合并所有子类别\n",
    "all_categories = []\n",
    "for category in categories.values():\n",
    "    all_categories.extend(category)\n",
    "\n",
    "# 写入新的文本文件\n",
    "with open('coco.names', 'w', encoding='utf-8') as f:\n",
    "    for item in all_categories:\n",
    "        f.write(f\"{item}\\n\")\n",
    "\n",
    "# 计算类别总数\n",
    "num_classes = len(all_categories)\n",
    "print(f\"Total number of classes: {num_classes}\")"
   ]
  },
  {
   "cell_type": "code",
   "execution_count": 3,
   "metadata": {},
   "outputs": [
    {
     "data": {
      "text/plain": [
       "48"
      ]
     },
     "execution_count": 3,
     "metadata": {},
     "output_type": "execute_result"
    }
   ],
   "source": [
    "num_classes"
   ]
  }
 ],
 "metadata": {
  "kernelspec": {
   "display_name": "Python 3",
   "language": "python",
   "name": "python3"
  },
  "language_info": {
   "codemirror_mode": {
    "name": "ipython",
    "version": 3
   },
   "file_extension": ".py",
   "mimetype": "text/x-python",
   "name": "python",
   "nbconvert_exporter": "python",
   "pygments_lexer": "ipython3",
   "version": "3.8.5"
  },
  "toc": {
   "base_numbering": 1,
   "nav_menu": {},
   "number_sections": true,
   "sideBar": true,
   "skip_h1_title": false,
   "title_cell": "Table of Contents",
   "title_sidebar": "Contents",
   "toc_cell": false,
   "toc_position": {},
   "toc_section_display": true,
   "toc_window_display": false
  }
 },
 "nbformat": 4,
 "nbformat_minor": 4
}
